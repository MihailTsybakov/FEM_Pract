{
 "cells": [
  {
   "cell_type": "code",
   "execution_count": 1,
   "id": "b59a61e5",
   "metadata": {},
   "outputs": [],
   "source": [
    "import numpy as np\n",
    "from scipy import sparse\n",
    "from scipy.sparse.linalg import spsolve\n",
    "from scipy.sparse.csgraph import reverse_cuthill_mckee\n",
    "\n",
    "from matplotlib import pyplot as plt"
   ]
  },
  {
   "cell_type": "code",
   "execution_count": 2,
   "id": "9a40671f",
   "metadata": {},
   "outputs": [],
   "source": [
    "class Mesh:\n",
    "    def __init__(self):\n",
    "        self.nodes_dict = {}   # Nodes dict <---> ID: [x y z]\n",
    "        self.elems_dict = {}   # Elems dict <---> ID: [ne_1, ne_2, ...]\n",
    "        self.N_nodes = 0\n",
    "        self.N_elems = 0\n",
    "        \n",
    "    def read_mesh(self, mesh_name):\n",
    "        # Reading nodes\n",
    "        nodes_file = open(mesh_name + '_nodes.txt', 'r')\n",
    "        \n",
    "        for line in nodes_file:\n",
    "            data_tokens = list(map(float, line.split(' ')))\n",
    "            node_ID = int(data_tokens[0])\n",
    "            coord_array = data_tokens[1:]\n",
    "            self.nodes_dict[node_ID] = coord_array\n",
    "            \n",
    "        self.N_nodes = len(self.nodes_dict.keys())\n",
    "        nodes_file.close()\n",
    "        \n",
    "        # Reading elems\n",
    "        elems_file = open(mesh_name + '_elems.txt', 'r')\n",
    "        \n",
    "        for line in elems_file:\n",
    "            if (line == ''):\n",
    "                break\n",
    "            data_tokens = list(map(int, line.replace(' \\n', '').split(' ')))\n",
    "            elem_ID = data_tokens[0]\n",
    "            elem_nodes = data_tokens[1:]\n",
    "            self.elems_dict[elem_ID] = elem_nodes\n",
    "            \n",
    "        self.N_elems = len(self.elems_dict.keys())\n",
    "        elems_file.close()\n",
    "        \n",
    "        print(f'Mesh from [{mesh_name}] loaded.\\n')\n",
    "        print(f'Nodes: \\t\\t{self.N_nodes}')\n",
    "        print(f'Elements: \\t{self.N_elems}')\n",
    "    \n",
    "    def get_mesh(self):\n",
    "        return self.nodes_dict, self.elems_dict"
   ]
  },
  {
   "cell_type": "code",
   "execution_count": 3,
   "id": "483d0bcf",
   "metadata": {},
   "outputs": [],
   "source": [
    "class FEM:\n",
    "    def __init__(self, nodes_dict, elems_dict, nu, E):\n",
    "        self.nodes_dict = nodes_dict                    # Nodes dict <---> ID: [x y z]\n",
    "        self.elems_dict = elems_dict                    # Elems dict <---> ID: [ne_1, ne_2, ...]\n",
    "        \n",
    "        self.N_nodes = len(nodes_dict.keys())\n",
    "        self.N_elems = len(elems_dict.keys())\n",
    "        \n",
    "        self.N_dofs = self.N_nodes * 2                  # 2D case, DOFs along X and Y\n",
    "        self.dofs_mapping = {}                          # Degrees of freedom for each element\n",
    "        \n",
    "        self.nu = nu\n",
    "        self.E = E\n",
    "        \n",
    "        self.local_K = np.ones((6,6))                  \n",
    "        self.global_K = None                            # Global stiffness matrix K\n",
    "        \n",
    "        self.D = E * np.array([\n",
    "            [1-nu, nu, 0],\n",
    "            [nu, 1-nu, 0],\n",
    "            [0, 0, 0.5*(1-2*nu)]\n",
    "        ]) / ((1 + nu)*(1 - 2*nu))                      # Hook's Law in matrix law\n",
    "        \n",
    "        self.F = np.zeros(self.N_dofs)                  # Nodal forces\n",
    "        self.U = np.zeros(self.N_dofs)                  # Displacements\n",
    "        self.fixed_dofs = []                            # Fixed nodes\n",
    "        self.all_dofs = np.arange(self.N_dofs)\n",
    "        \n",
    "    # For each element, calculates its nodes DOFs    \n",
    "    def map_dofs(self):\n",
    "        for elem in list(self.elems_dict.keys()):\n",
    "            nodes = self.elems_dict[elem]\n",
    "            dofs = []\n",
    "            for node in nodes:\n",
    "                dofs.append(2*(node-1))       # DOF along X\n",
    "                dofs.append(2*(node-1) + 1)   # DOF along Y\n",
    "            self.dofs_mapping[elem] = dofs\n",
    "    \n",
    "    # For triangular mesh?\n",
    "    def assemble_stiffness_matrix(self):\n",
    "        global_iK = np.zeros(36 * self.N_elems)\n",
    "        global_jK = np.zeros(36 * self.N_elems)\n",
    "        global_aK = np.zeros(36 * self.N_elems)\n",
    "        \n",
    "        for ei, elem in enumerate(list(self.elems_dict.keys())):\n",
    "            iK = np.kron(self.dofs_mapping[elem], np.ones(6))\n",
    "            jK = np.reshape(np.kron(self.dofs_mapping[elem], np.reshape(np.ones(6), (6,1))), -1)\n",
    "            aK = np.reshape(self.local_stiffness_matrix(elem), -1)\n",
    "            \n",
    "            global_iK[36*ei : 36*(ei+1)] = iK\n",
    "            global_jK[36*ei : 36*(ei+1)] = jK\n",
    "            global_aK[36*ei : 36*(ei+1)] = aK\n",
    "            \n",
    "        self.global_K = sparse.coo_matrix((global_aK,(global_iK, global_jK)),shape = (self.N_dofs, self.N_dofs)).tocsr()\n",
    "        \n",
    "    def local_stiffness_matrix(self, elem_ID):\n",
    "        elem_nodes_IDs = self.elems_dict[elem_ID]\n",
    "        elem_nodes_coords = [self.nodes_dict[node_id] for node_id in elem_nodes_IDs]\n",
    "        \n",
    "        x1 = elem_nodes_coords[0][0]\n",
    "        x2 = elem_nodes_coords[1][0]\n",
    "        x3 = elem_nodes_coords[2][0]\n",
    "        \n",
    "        y1 = elem_nodes_coords[0][1]\n",
    "        y2 = elem_nodes_coords[1][1]\n",
    "        y3 = elem_nodes_coords[2][1]\n",
    "        \n",
    "        jacobian = np.array([\n",
    "            [x2 - x1, x3 - x1],\n",
    "            [y2 - y1, y3 - y1]\n",
    "        ])\n",
    "        \n",
    "        inv_jacobian = np.linalg.inv(jacobian)\n",
    "        xi_x = inv_jacobian[0][0]\n",
    "        xi_y = inv_jacobian[0][1]\n",
    "        eta_x = inv_jacobian[1][0]\n",
    "        eta_y = inv_jacobian[1][1]\n",
    "        \n",
    "        B = np.array([\n",
    "            [-xi_x - xi_y, 0, xi_x, 0, xi_y, 0],\n",
    "            [0, -eta_x - eta_y, 0, eta_x, 0, eta_y],\n",
    "            [-eta_x - eta_y, -xi_x - xi_y, eta_x, xi_x, eta_y, xi_y]\n",
    "        ])\n",
    "        \n",
    "        local_stiffness_matrix = 0.5 * np.linalg.det(jacobian) * np.dot(np.transpose(B), np.dot(self.D, B))\n",
    "        \n",
    "        return local_stiffness_matrix\n",
    "    \n",
    "    def solve_U(self):\n",
    "        free_dofs = np.setdiff1d(self.all_dofs, self.fixed_dofs)\n",
    "        self.U[free_dofs] = spsolve(self.global_K[free_dofs, :][:, free_dofs], self.F[free_dofs])\n",
    "        \n",
    "        return self.U\n",
    "        \n",
    "    def apply_load(self, node_ID, force_X, force_Y):\n",
    "        dof_x = 2*(node_ID-1)\n",
    "        dof_y = 2*(node_ID-1) + 1\n",
    "        self.F[dof_x] = force_X\n",
    "        self.F[dof_y] = force_Y\n",
    "        \n",
    "    def fix_node(self, node_ID, fix_X, fix_Y):\n",
    "        dof_x = 2*(node_ID-1)\n",
    "        dof_y = 2*(node_ID-1) + 1\n",
    "        if (fix_X == True):\n",
    "            self.fixed_dofs.append(dof_x)\n",
    "        if (fix_Y == True):\n",
    "            self.fixed_dofs.append(dof_y)\n",
    "        \n",
    "    def build_incidence_matrix(self):\n",
    "        self.incidence_matrix = np.zeros((self.N_nodes, self.N_nodes))\n",
    "        \n",
    "        # Calculating incidence from elements\n",
    "        for elem_ID in list(self.elems_dict.keys()):\n",
    "            nodes = self.elems_dict[elem_ID]\n",
    "            for i in range(len(nodes)):\n",
    "                self.incidence_matrix[nodes[i]-1][nodes[i-1]-1] = 1                # Marking LEFT neighbor\n",
    "                self.incidence_matrix[nodes[i]-1][nodes[(i+1)%len(nodes)]-1] = 1   # Marking RIGHT neighbor\n",
    "                self.incidence_matrix[nodes[i]-1][nodes[i]-1] = 1                  # Marking node itself\n",
    "                \n",
    "    def renumbering(self):\n",
    "        graph = sparse.csr_matrix(self.incidence_matrix)                     # Creating input graph in scipy sparse matrix form\n",
    "        permutation = reverse_cuthill_mckee(graph, symmetric_mode = True)    # Incidence matrix is guaranteed to be symmetric\n",
    "        \n",
    "        # Updating incidence matrix\n",
    "        self.incidence_matrix = self.incidence_matrix[permutation, :][:, permutation]\n",
    "        self.renum_perm = permutation\n",
    "        \n",
    "    def revert_renumbering(self):\n",
    "        inverse_perm = np.argsort(self.renum_perm)\n",
    "        \n",
    "        self.incidence_matrix = self.incidence_matrix[inverse_perm, :][:, inverse_perm]\n",
    "                \n",
    "    def draw_incidence_matrix(self):\n",
    "        plt.figure(figsize=(9, 9))\n",
    "        plt.imshow(self.incidence_matrix, cmap = 'turbo', interpolation = 'gaussian')\n",
    "        \n",
    "    def draw_stiffness_matrix(self):\n",
    "        if (self.N_dofs > 3000):\n",
    "            print(\"Too much DOFs: cannot visualize stiffness matrix\")\n",
    "            return\n",
    "        \n",
    "        plt.figure(figsize=(7, 7))\n",
    "        np_represent = self.global_K.toarray()\n",
    "        for i in range(np_represent.shape[0]):\n",
    "            for j in range(np_represent.shape[0]):\n",
    "                if (np_represent[i][j] != 0):\n",
    "                    np_represent[i][j] = 1.0\n",
    "                    \n",
    "        plt.imshow(np_represent, cmap = 'hot')"
   ]
  },
  {
   "cell_type": "code",
   "execution_count": 4,
   "id": "2ed32673",
   "metadata": {},
   "outputs": [
    {
     "name": "stdout",
     "output_type": "stream",
     "text": [
      "Mesh from [Mesh_1] loaded.\n",
      "\n",
      "Nodes: \t\t934\n",
      "Elements: \t1728\n"
     ]
    }
   ],
   "source": [
    "mesh = Mesh()\n",
    "mesh.read_mesh('Mesh_1')\n",
    "\n",
    "mesh_nodes, mesh_elems = mesh.get_mesh()"
   ]
  },
  {
   "cell_type": "code",
   "execution_count": 5,
   "id": "bec59b72",
   "metadata": {},
   "outputs": [],
   "source": [
    "f_matr = FEM(mesh_nodes, mesh_elems, 0.3, 1e9)\n",
    "f_matr.build_incidence_matrix()"
   ]
  },
  {
   "cell_type": "code",
   "execution_count": 6,
   "id": "84ddde02",
   "metadata": {},
   "outputs": [],
   "source": [
    "f_matr.map_dofs()"
   ]
  },
  {
   "cell_type": "code",
   "execution_count": 7,
   "id": "820d2d61",
   "metadata": {},
   "outputs": [],
   "source": [
    "f_matr.assemble_stiffness_matrix()"
   ]
  },
  {
   "cell_type": "code",
   "execution_count": 8,
   "id": "374f8e19",
   "metadata": {},
   "outputs": [
    {
     "data": {
      "image/png": "[encoded data removed]",
      "text/plain": [
       "<Figure size 504x504 with 1 Axes>"
      ]
     },
     "metadata": {
      "needs_background": "light"
     },
     "output_type": "display_data"
    }
   ],
   "source": [
    "f_matr.draw_stiffness_matrix()"
   ]
  },
  {
   "cell_type": "code",
   "execution_count": 9,
   "id": "a61b64d4",
   "metadata": {},
   "outputs": [],
   "source": [
    "f_matr.fix_node(1, True, True)\n",
    "f_matr.fix_node(100, True, True)\n",
    "f_matr.apply_load(200, 0, -1)"
   ]
  },
  {
   "cell_type": "code",
   "execution_count": 10,
   "id": "251f9c57",
   "metadata": {},
   "outputs": [],
   "source": [
    "# Getting displacements\n",
    "U = f_matr.solve_U()"
   ]
  }
 ],
 "metadata": {
  "kernelspec": {
   "display_name": "Python 3 (ipykernel)",
   "language": "python",
   "name": "python3"
  },
  "language_info": {
   "codemirror_mode": {
    "name": "ipython",
    "version": 3
   },
   "file_extension": ".py",
   "mimetype": "text/x-python",
   "name": "python",
   "nbconvert_exporter": "python",
   "pygments_lexer": "ipython3",
   "version": "3.9.12"
  }
 },
 "nbformat": 4,
 "nbformat_minor": 5
}
