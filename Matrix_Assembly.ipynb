{
 "cells": [
  {
   "cell_type": "code",
   "execution_count": 7,
   "id": "4a245d8a",
   "metadata": {},
   "outputs": [],
   "source": [
    "class Mesh:\n",
    "    def __init__(self):\n",
    "        self.nodes_dict = {}   # Nodes dict <---> ID: [x y z]\n",
    "        self.elems_dict = {}   # Elems dict <---> ID: [ne_1, ne_2, ...]\n",
    "        self.N_nodes = 0\n",
    "        self.N_elems = 0\n",
    "        \n",
    "    def read_mesh(self, mesh_name):\n",
    "        # Reading nodes\n",
    "        nodes_file = open(mesh_name + '_nodes.txt', 'r')\n",
    "        \n",
    "        for line in nodes_file:\n",
    "            data_tokens = list(map(float, line.split(' ')))\n",
    "            node_ID = int(data_tokens[0])\n",
    "            coord_array = data_tokens[1:]\n",
    "            self.nodes_dict[node_ID] = coord_array\n",
    "            \n",
    "        self.N_nodes = len(self.nodes_dict.keys())\n",
    "        nodes_file.close()\n",
    "        \n",
    "        # Reading elems\n",
    "        elems_file = open(mesh_name + '_elems.txt', 'r')\n",
    "        \n",
    "        for line in elems_file:\n",
    "            if (line == ''):\n",
    "                break\n",
    "            data_tokens = list(map(int, line.replace(' \\n', '').split(' ')))\n",
    "            elem_ID = data_tokens[0]\n",
    "            elem_nodes = data_tokens[1:]\n",
    "            self.elems_dict[elem_ID] = elem_nodes\n",
    "            \n",
    "        self.N_elems = len(self.elems_dict.keys())\n",
    "        elems_file.close()\n",
    "        \n",
    "        print(f'Mesh from [{mesh_name}] loaded.\\n')\n",
    "        print(f'Nodes: \\t\\t{self.N_nodes}')\n",
    "        print(f'Elements: \\t{self.N_elems}')\n",
    "    \n",
    "    def get_mesh(self):\n",
    "        return self.nodes_dict, self.elems_dict"
   ]
  },
  {
   "cell_type": "code",
   "execution_count": 8,
   "id": "1809bf87",
   "metadata": {},
   "outputs": [
    {
     "name": "stdout",
     "output_type": "stream",
     "text": [
      "Mesh from [Mesh_1] loaded.\n",
      "\n",
      "Nodes: \t\t221\n",
      "Elements: \t364\n"
     ]
    }
   ],
   "source": [
    "mesh = Mesh()\n",
    "mesh.read_mesh('Mesh_1')"
   ]
  },
  {
   "cell_type": "code",
   "execution_count": null,
   "id": "1619db4d",
   "metadata": {},
   "outputs": [],
   "source": []
  }
 ],
 "metadata": {
  "kernelspec": {
   "display_name": "Python 3 (ipykernel)",
   "language": "python",
   "name": "python3"
  },
  "language_info": {
   "codemirror_mode": {
    "name": "ipython",
    "version": 3
   },
   "file_extension": ".py",
   "mimetype": "text/x-python",
   "name": "python",
   "nbconvert_exporter": "python",
   "pygments_lexer": "ipython3",
   "version": "3.9.12"
  }
 },
 "nbformat": 4,
 "nbformat_minor": 5
}
