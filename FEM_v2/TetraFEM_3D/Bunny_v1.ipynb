{
 "cells": [
  {
   "cell_type": "code",
   "execution_count": 1,
   "metadata": {},
   "outputs": [],
   "source": [
    "from TetraMesher import *"
   ]
  },
  {
   "cell_type": "code",
   "execution_count": 2,
   "metadata": {},
   "outputs": [
    {
     "name": "stdout",
     "output_type": "stream",
     "text": [
      "2024-11-16 13:39:53  |  Scanned STL surface: [C:\\Users\\Михаил\\Desktop\\Prog\\Python\\FEM_Pract\\FEM_v2\\Data\\unit_cube.stl]\n"
     ]
    },
    {
     "ename": "RuntimeError",
     "evalue": "Failed to tetrahedralize.\nMay need to repair surface by making it manifold",
     "output_type": "error",
     "traceback": [
      "\u001b[1;31m---------------------------------------------------------------------------\u001b[0m",
      "\u001b[1;31mRuntimeError\u001b[0m                              Traceback (most recent call last)",
      "Cell \u001b[1;32mIn[2], line 3\u001b[0m\n\u001b[0;32m      1\u001b[0m stl_path \u001b[38;5;241m=\u001b[39m \u001b[38;5;124mr\u001b[39m\u001b[38;5;124m'\u001b[39m\u001b[38;5;124mC:\u001b[39m\u001b[38;5;124m\\\u001b[39m\u001b[38;5;124mUsers\u001b[39m\u001b[38;5;124m\\\u001b[39m\u001b[38;5;124mМихаил\u001b[39m\u001b[38;5;124m\\\u001b[39m\u001b[38;5;124mDesktop\u001b[39m\u001b[38;5;124m\\\u001b[39m\u001b[38;5;124mProg\u001b[39m\u001b[38;5;124m\\\u001b[39m\u001b[38;5;124mPython\u001b[39m\u001b[38;5;124m\\\u001b[39m\u001b[38;5;124mFEM_Pract\u001b[39m\u001b[38;5;124m\\\u001b[39m\u001b[38;5;124mFEM_v2\u001b[39m\u001b[38;5;124m\\\u001b[39m\u001b[38;5;124mData\u001b[39m\u001b[38;5;124m\\\u001b[39m\u001b[38;5;124munit_cube.stl\u001b[39m\u001b[38;5;124m'\u001b[39m\n\u001b[1;32m----> 3\u001b[0m a,b \u001b[38;5;241m=\u001b[39m \u001b[43mbuild_tetramesh\u001b[49m\u001b[43m(\u001b[49m\u001b[43mstl_path\u001b[49m\u001b[43m,\u001b[49m\u001b[43m \u001b[49m\u001b[43mmax_volume\u001b[49m\u001b[38;5;241;43m=\u001b[39;49m\u001b[38;5;241;43m0.001\u001b[39;49m\u001b[43m,\u001b[49m\u001b[43m \u001b[49m\u001b[43melem_quality\u001b[49m\u001b[38;5;241;43m=\u001b[39;49m\u001b[38;5;241;43m1.5\u001b[39;49m\u001b[43m)\u001b[49m\n",
      "File \u001b[1;32mc:\\Users\\Михаил\\Desktop\\Prog\\Python\\FEM_Pract\\FEM_v2\\TetraFEM_3D\\TetraMesher.py:32\u001b[0m, in \u001b[0;36mbuild_tetramesh\u001b[1;34m(stl_path, max_volume, elem_quality)\u001b[0m\n\u001b[0;32m     28\u001b[0m stl_faces \u001b[38;5;241m=\u001b[39m np\u001b[38;5;241m.\u001b[39marray(stl_mesh\u001b[38;5;241m.\u001b[39mcells[\u001b[38;5;241m0\u001b[39m]\u001b[38;5;241m.\u001b[39mdata)\n\u001b[0;32m     30\u001b[0m tet \u001b[38;5;241m=\u001b[39m tetgen\u001b[38;5;241m.\u001b[39mTetGen(stl_verts, stl_faces)\n\u001b[1;32m---> 32\u001b[0m mesh_verts, mesh_cells \u001b[38;5;241m=\u001b[39m \u001b[43mtet\u001b[49m\u001b[38;5;241;43m.\u001b[39;49m\u001b[43mtetrahedralize\u001b[49m\u001b[43m(\u001b[49m\u001b[43mswitches\u001b[49m\u001b[38;5;241;43m=\u001b[39;49m\u001b[38;5;124;43mf\u001b[39;49m\u001b[38;5;124;43m'\u001b[39;49m\u001b[38;5;124;43mpq\u001b[39;49m\u001b[38;5;132;43;01m{\u001b[39;49;00m\u001b[43melem_quality\u001b[49m\u001b[38;5;132;43;01m}\u001b[39;49;00m\u001b[38;5;124;43ma\u001b[39;49m\u001b[38;5;132;43;01m{\u001b[39;49;00m\u001b[43mmax_volume\u001b[49m\u001b[38;5;132;43;01m}\u001b[39;49;00m\u001b[38;5;124;43mYr\u001b[39;49m\u001b[38;5;124;43m'\u001b[39;49m\u001b[43m)\u001b[49m\n\u001b[0;32m     33\u001b[0m tet\u001b[38;5;241m.\u001b[39mwrite(\u001b[38;5;124m'\u001b[39m\u001b[38;5;124mdebug.vtk\u001b[39m\u001b[38;5;124m'\u001b[39m)\n\u001b[0;32m     34\u001b[0m log_msg(\u001b[38;5;124mf\u001b[39m\u001b[38;5;124m'\u001b[39m\u001b[38;5;124mTetra mesh constructed: Vertices: \u001b[39m\u001b[38;5;132;01m{\u001b[39;00m\u001b[38;5;28mlen\u001b[39m(mesh_verts)\u001b[38;5;132;01m}\u001b[39;00m\u001b[38;5;124m, Cells: \u001b[39m\u001b[38;5;132;01m{\u001b[39;00m\u001b[38;5;28mlen\u001b[39m(mesh_cells)\u001b[38;5;132;01m}\u001b[39;00m\u001b[38;5;124m'\u001b[39m)\n",
      "File \u001b[1;32mc:\\Users\\Михаил\\Desktop\\Python_311\\Lib\\site-packages\\tetgen\\pytetgen.py:707\u001b[0m, in \u001b[0;36mTetGen.tetrahedralize\u001b[1;34m(self, plc, psc, refine, quality, nobisect, cdt, cdtrefine, coarsen, weighted, brio_hilbert, flipinsert, metric, varvolume, fixedvolume, regionattrib, insertaddpoints, diagnose, convex, nomergefacet, nomergevertex, noexact, nostaticfilter, zeroindex, facesout, edgesout, neighout, voroout, meditview, vtkview, vtksurfview, nobound, nonodewritten, noelewritten, nofacewritten, noiterationnum, nojettison, docheck, quiet, nowarning, verbose, vertexperblock, tetrahedraperblock, shellfaceperblock, supsteiner_level, addsteiner_algo, coarsen_param, weighted_param, fliplinklevel, flipstarsize, fliplinklevelinc, opt_max_flip_level, opt_scheme, opt_iterations, smooth_cirterion, smooth_maxiter, delmaxfliplevel, order, reversetetori, steinerleft, unflip_queue_limit, no_sort, hilbert_order, hilbert_limit, brio_threshold, brio_ratio, epsilon, facet_separate_ang_tol, collinear_ang_tol, facet_small_ang_tol, maxvolume, maxvolume_length, minratio, opt_max_asp_ratio, opt_max_edge_ratio, mindihedral, optmaxdihedral, metric_scale, smooth_alpha, coarsen_percent, elem_growth_ratio, refine_progress_ratio, switches, bgmeshfilename, bgmesh)\u001b[0m\n\u001b[0;32m    705\u001b[0m \u001b[38;5;66;03m# check if a mesh was generated\u001b[39;00m\n\u001b[0;32m    706\u001b[0m \u001b[38;5;28;01mif\u001b[39;00m \u001b[38;5;129;01mnot\u001b[39;00m np\u001b[38;5;241m.\u001b[39many(\u001b[38;5;28mself\u001b[39m\u001b[38;5;241m.\u001b[39mnode):\n\u001b[1;32m--> 707\u001b[0m     \u001b[38;5;28;01mraise\u001b[39;00m \u001b[38;5;167;01mRuntimeError\u001b[39;00m(\n\u001b[0;32m    708\u001b[0m         \u001b[38;5;124m\"\u001b[39m\u001b[38;5;124mFailed to tetrahedralize.\u001b[39m\u001b[38;5;130;01m\\n\u001b[39;00m\u001b[38;5;124mMay need to repair surface by making it manifold\u001b[39m\u001b[38;5;124m\"\u001b[39m\n\u001b[0;32m    709\u001b[0m     )\n\u001b[0;32m    711\u001b[0m \u001b[38;5;66;03m# Return nodes and elements\u001b[39;00m\n\u001b[0;32m    712\u001b[0m LOG\u001b[38;5;241m.\u001b[39minfo(\n\u001b[0;32m    713\u001b[0m     \u001b[38;5;124m\"\u001b[39m\u001b[38;5;124mGenerated mesh with \u001b[39m\u001b[38;5;132;01m%d\u001b[39;00m\u001b[38;5;124m nodes and \u001b[39m\u001b[38;5;132;01m%d\u001b[39;00m\u001b[38;5;124m elements\u001b[39m\u001b[38;5;124m\"\u001b[39m, \u001b[38;5;28mself\u001b[39m\u001b[38;5;241m.\u001b[39mnode\u001b[38;5;241m.\u001b[39mshape[\u001b[38;5;241m0\u001b[39m], \u001b[38;5;28mself\u001b[39m\u001b[38;5;241m.\u001b[39melem\u001b[38;5;241m.\u001b[39mshape[\u001b[38;5;241m0\u001b[39m]\n\u001b[0;32m    714\u001b[0m )\n",
      "\u001b[1;31mRuntimeError\u001b[0m: Failed to tetrahedralize.\nMay need to repair surface by making it manifold"
     ]
    }
   ],
   "source": [
    "stl_path = r'C:\\Users\\Михаил\\Desktop\\Prog\\Python\\FEM_Pract\\FEM_v2\\Data\\unit_cube.stl'\n",
    "\n",
    "a,b = build_tetramesh(stl_path, max_volume=0.001, elem_quality=1.5)"
   ]
  },
  {
   "cell_type": "code",
   "execution_count": null,
   "metadata": {},
   "outputs": [
    {
     "data": {
      "text/plain": [
       "array([[0, 2, 3, 1]], dtype=int32)"
      ]
     },
     "execution_count": 3,
     "metadata": {},
     "output_type": "execute_result"
    }
   ],
   "source": [
    "b"
   ]
  }
 ],
 "metadata": {
  "kernelspec": {
   "display_name": "Python 3",
   "language": "python",
   "name": "python3"
  },
  "language_info": {
   "codemirror_mode": {
    "name": "ipython",
    "version": 3
   },
   "file_extension": ".py",
   "mimetype": "text/x-python",
   "name": "python",
   "nbconvert_exporter": "python",
   "pygments_lexer": "ipython3",
   "version": "3.11.9"
  }
 },
 "nbformat": 4,
 "nbformat_minor": 2
}
