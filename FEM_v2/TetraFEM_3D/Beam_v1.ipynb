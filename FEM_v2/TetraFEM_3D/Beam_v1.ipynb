{
 "cells": [
  {
   "cell_type": "code",
   "execution_count": 1,
   "metadata": {},
   "outputs": [],
   "source": [
    "from TetraMesher import *"
   ]
  },
  {
   "cell_type": "code",
   "execution_count": 2,
   "metadata": {},
   "outputs": [
    {
     "name": "stdout",
     "output_type": "stream",
     "text": [
      "2024-11-17 04:32:54  |  Input file for meshing: [C:\\Data\\Work\\Code\\FEM_Pract\\FEM_v2\\Data\\beam_1.stl]\n",
      "2024-11-17 04:32:54  |  Original STL Surface: N_verts = 24, N_faces = 44\n",
      "2024-11-17 04:32:55  |  Mesh built: N_verts = 7138, N_tetra = 29956\n",
      "2024-11-17 04:32:55  |  Mesh saved into [Mesh.vtk]\n"
     ]
    }
   ],
   "source": [
    "stl_path = r'C:\\Data\\Work\\Code\\FEM_Pract\\FEM_v2\\Data\\beam_1.stl'\n",
    "\n",
    "nodes, cells = build_tetramesh(stl_path, max_volume=0.001, elem_quality=1.5)"
   ]
  },
  {
   "cell_type": "code",
   "execution_count": null,
   "metadata": {},
   "outputs": [],
   "source": []
  }
 ],
 "metadata": {
  "kernelspec": {
   "display_name": "Python 3",
   "language": "python",
   "name": "python3"
  },
  "language_info": {
   "codemirror_mode": {
    "name": "ipython",
    "version": 3
   },
   "file_extension": ".py",
   "mimetype": "text/x-python",
   "name": "python",
   "nbconvert_exporter": "python",
   "pygments_lexer": "ipython3",
   "version": "3.10.11"
  }
 },
 "nbformat": 4,
 "nbformat_minor": 2
}
