{
 "cells": [
  {
   "cell_type": "markdown",
   "id": "28e0e429",
   "metadata": {},
   "source": [
    "<b>UAZ 469 Army SUV Frame modeling: FEM </b>\n",
    "\n",
    "<i><b>Tsybakov Mikhail, Dec. 2023</b> </i>"
   ]
  },
  {
   "cell_type": "code",
   "execution_count": 1,
   "id": "394cb7a9",
   "metadata": {},
   "outputs": [],
   "source": [
    "# All needed imports\n",
    "import meshio\n",
    "import numpy as np \n",
    "import pyvista as pv\n",
    "from scipy import sparse\n",
    "from scipy.sparse.linalg import spsolve\n",
    "from matplotlib import pyplot as plt\n",
    "\n",
    "from time import time\n",
    "import warnings\n",
    "warnings.filterwarnings('ignore')"
   ]
  },
  {
   "cell_type": "code",
   "execution_count": 31,
   "id": "20bd2181",
   "metadata": {},
   "outputs": [],
   "source": [
    "# Mesh visualization\n",
    "\n",
    "def visualize(grid, scalars_ = None, cmap_ = None):    \n",
    "    pv.set_jupyter_backend('client')\n",
    "    plotter = pv.Plotter(lighting = 'three lights')\n",
    "    \n",
    "    if scalars_ is None:\n",
    "        plotter.add_mesh(grid, show_edges = True)\n",
    "    else:\n",
    "        plotter.add_mesh(grid, show_edges = False, scalars = scalars_, cmap = cmap_)\n",
    "    \n",
    "    plotter.set_background('white')\n",
    "    plotter.show_bounds(color = 'black')\n",
    "    plotter.add_bounding_box(color = 'black')\n",
    "    plotter.show()"
   ]
  },
  {
   "cell_type": "code",
   "execution_count": 3,
   "id": "9dc37f7f",
   "metadata": {},
   "outputs": [],
   "source": [
    "# Reading mesh\n",
    "\n",
    "def read_mesh(filename):\n",
    "    mesh = meshio.read(filename)\n",
    "    \n",
    "    nodes = mesh.points\n",
    "    elems = mesh.cells[0].data\n",
    "    \n",
    "    print(f'Nodes count: {nodes.shape[0]}')\n",
    "    print(f'Elems count: {len(elems)}')\n",
    "    \n",
    "    return nodes, elems"
   ]
  },
  {
   "cell_type": "code",
   "execution_count": 4,
   "id": "cd176586",
   "metadata": {},
   "outputs": [],
   "source": [
    "# Converting mesh to PyVista unstructured grid\n",
    "\n",
    "def mesh_to_unstructured_grid(nodes, elems):\n",
    "    grid_points    = nodes\n",
    "    grid_cells     = []\n",
    "    grid_celltypes = []\n",
    "    \n",
    "    for elem in elems:\n",
    "        grid_cells += ([4] + list(elem))\n",
    "        grid_celltypes.append(pv.CellType.TETRA)\n",
    "        \n",
    "    grid = pv.UnstructuredGrid(grid_cells, grid_celltypes, grid_points)\n",
    "    return grid"
   ]
  },
  {
   "cell_type": "code",
   "execution_count": 5,
   "id": "758a054a",
   "metadata": {},
   "outputs": [],
   "source": [
    "# Local stiffness matrix for 1st order 3D tetraedron element\n",
    "\n",
    "def local_K(elem_id):\n",
    "    e_nodes = tuple(elems[elem_id])\n",
    "    \n",
    "    x1, y1, z1 = nodes[e_nodes[0]]\n",
    "    x2, y2, z2 = nodes[e_nodes[1]]\n",
    "    x3, y3, z3 = nodes[e_nodes[2]]\n",
    "    x4, y4, z4 = nodes[e_nodes[3]]\n",
    "    \n",
    "    jacobian = np.array([\n",
    "        [x2 - x1, y2 - y1, z2 - z1],\n",
    "        [x3 - x1, y3 - y1, z3 - z1],\n",
    "        [x4 - x1, y4 - y1, z4 - z1]\n",
    "    ])\n",
    "    \n",
    "    volume_matrix = np.array([\n",
    "        [1, x1, y1, z1],\n",
    "        [1, x2, y2, z2],\n",
    "        [1, x3, y3, z3],\n",
    "        [1, x4, y4, z4]\n",
    "    ])\n",
    "    \n",
    "    inv_jacobian = np.linalg.inv(jacobian)\n",
    "    \n",
    "    a, b, c = inv_jacobian[0, 0], inv_jacobian[0, 1], inv_jacobian[0, 2]\n",
    "    d, e, f = inv_jacobian[1, 0], inv_jacobian[1, 1], inv_jacobian[1, 2]\n",
    "    g, h, k = inv_jacobian[2, 0], inv_jacobian[2, 1], inv_jacobian[2, 2]\n",
    "    \n",
    "    N1_block_top = np.array([\n",
    "        [-a-b-c, 0, 0],\n",
    "        [0, -d-e-f, 0],\n",
    "        [0, 0, -g-h-k]\n",
    "    ])\n",
    "    \n",
    "    N1_block_bottom = np.array([\n",
    "        [-d-e-f, -a-b-c, 0],\n",
    "        [0, -g-h-k, -d-e-f],\n",
    "        [-g-h-k, 0, -a-b-c],\n",
    "    ])\n",
    "    \n",
    "    N2_block_top = np.array([\n",
    "        [a, 0, 0],\n",
    "        [0, d, 0],\n",
    "        [0, 0, g]\n",
    "    ])\n",
    "    \n",
    "    N2_block_bottom = np.array([\n",
    "        [d, a, 0],\n",
    "        [0, g, d],\n",
    "        [g, 0, a]\n",
    "    ])\n",
    "    \n",
    "    N3_block_top = np.array([\n",
    "        [b, 0, 0],\n",
    "        [0, e, 0],\n",
    "        [0, 0, h]\n",
    "    ])\n",
    "    \n",
    "    N3_block_bottom = np.array([\n",
    "        [e, b, 0],\n",
    "        [0, h, e],\n",
    "        [h, 0, b]\n",
    "    ])\n",
    "    \n",
    "    N4_block_top = np.array([\n",
    "        [c, 0, 0],\n",
    "        [0, f, 0],\n",
    "        [0, 0, k]\n",
    "    ])\n",
    "    \n",
    "    N4_block_bottom = np.array([\n",
    "        [f, c, 0],\n",
    "        [0, k, f],\n",
    "        [k, 0, c]\n",
    "    ])\n",
    "    \n",
    "    B_top    = np.concatenate([N1_block_top, N2_block_top, N3_block_top, N4_block_top], axis = 1)\n",
    "    B_bottom = np.concatenate([N1_block_bottom, N2_block_bottom, N3_block_bottom, N4_block_bottom], axis = 1)\n",
    "    \n",
    "    B = np.concatenate([B_top, B_bottom], axis = 0)\n",
    "    \n",
    "    tetra_volume = np.abs(np.linalg.det(jacobian))\n",
    "    \n",
    "    local_K = (1/6) * B.T @ D @ B * np.abs(np.linalg.det(volume_matrix))\n",
    "    return local_K, B"
   ]
  },
  {
   "cell_type": "code",
   "execution_count": 6,
   "id": "db5dab42",
   "metadata": {},
   "outputs": [],
   "source": [
    "# For each element, calculates degrees of freedom, related to it\n",
    "\n",
    "def map_dofs(elements):\n",
    "    dofs_mapping = np.zeros((n_elems, 12))\n",
    "    for i, elem in enumerate(elements):\n",
    "        dofs = []\n",
    "        for node in elem:\n",
    "            dofs += [node*3, node*3 + 1, node*3 + 2]\n",
    "        dofs_mapping[i] = np.array(dofs)\n",
    "    return dofs_mapping"
   ]
  },
  {
   "cell_type": "code",
   "execution_count": 7,
   "id": "9f14f427",
   "metadata": {},
   "outputs": [],
   "source": [
    "def mesh_bounds(nodes):\n",
    "    nodes_np = np.array(nodes)\n",
    "    \n",
    "    min_x = np.min(nodes_np[:, 0])\n",
    "    max_x = np.max(nodes_np[:, 0])\n",
    "    min_y = np.min(nodes_np[:, 1])\n",
    "    max_y = np.max(nodes_np[:, 1])\n",
    "    min_z = np.min(nodes_np[:, 2])\n",
    "    max_z = np.max(nodes_np[:, 2])\n",
    "    \n",
    "    return min_x, max_x, min_y, max_y, min_z, max_z"
   ]
  },
  {
   "cell_type": "code",
   "execution_count": 8,
   "id": "0f86e679",
   "metadata": {},
   "outputs": [],
   "source": [
    "# Founds bounding nodes with tolerance\n",
    "\n",
    "def bounding_nodes(bounds, tol):\n",
    "    min_x, max_x, min_y, max_y, min_z, max_z = bounds\n",
    "    \n",
    "    x0_nodes = []\n",
    "    x1_nodes = []\n",
    "    y0_nodes = []\n",
    "    y1_nodes = []\n",
    "    z0_nodes = []\n",
    "    z1_nodes = []\n",
    "    \n",
    "    for i, node in enumerate(nodes):\n",
    "        x, y, z = tuple(node)\n",
    "        if abs(x - min_x) < tol:\n",
    "            x0_nodes.append(i)\n",
    "        if abs(x - max_x) < tol:\n",
    "            x1_nodes.append(i)\n",
    "        if abs(y - min_y) < tol:\n",
    "            y0_nodes.append(i)\n",
    "        if abs(y - max_y) < tol:\n",
    "            y1_nodes.append(i)\n",
    "        if abs(z - min_z) < tol:\n",
    "            z0_nodes.append(i)\n",
    "        if abs(z - max_z) < tol:\n",
    "            z1_nodes.append(i)\n",
    "            \n",
    "    return x0_nodes, x1_nodes, y0_nodes, y1_nodes, z0_nodes, z1_nodes"
   ]
  },
  {
   "cell_type": "code",
   "execution_count": 9,
   "id": "89ad9dc4",
   "metadata": {},
   "outputs": [],
   "source": [
    "# Founds middle part of the frame\n",
    "\n",
    "def find_middle(x0, x1, tol):\n",
    "    min_x = x0\n",
    "    max_x = x1\n",
    "    \n",
    "    min_y = 1e9\n",
    "    max_y = -1e9\n",
    "    min_z = 1e9\n",
    "    max_z = -1e9\n",
    "    \n",
    "    upper_nodes_mid = []\n",
    "    \n",
    "    for node in nodes:\n",
    "        x,y,z = tuple(node)\n",
    "        if (x >= min_x and x <= max_x):\n",
    "            if (y < min_y):\n",
    "                min_y = y\n",
    "            if (y > max_y):\n",
    "                max_y = y\n",
    "            if (z < min_z):\n",
    "                min_z = z\n",
    "            if (z > max_z):\n",
    "                max_z = z\n",
    "                \n",
    "    for i, node in enumerate(nodes):\n",
    "        x,y,z = tuple(node)\n",
    "        if abs(y - max_y) < tol and x >= min_x and x <= max_x:\n",
    "            upper_nodes_mid.append(i)\n",
    "            \n",
    "    return upper_nodes_mid"
   ]
  },
  {
   "cell_type": "code",
   "execution_count": 10,
   "id": "fc912faf",
   "metadata": {},
   "outputs": [],
   "source": [
    "# Global stiffness matrix assembly\n",
    "\n",
    "def assemble_K(elements, dofs_mapping):\n",
    "    values = 12*12\n",
    "    global_iK = np.zeros(values * n_elems)\n",
    "    global_jK = np.zeros(values * n_elems)\n",
    "    global_aK = np.zeros(values * n_elems)\n",
    "\n",
    "    for ei, elem in enumerate(elements):\n",
    "        iK = np.kron(dofs_mapping[ei], np.ones(12))\n",
    "        jK = np.reshape(np.kron(dofs_mapping[ei], np.reshape(np.ones(12), (12,1))), -1)\n",
    "        local_K_, B_ = local_K(ei)\n",
    "        aK = np.reshape(local_K_, -1)\n",
    "        \n",
    "        elems_data[ei]['B_matr'] = B_\n",
    "        \n",
    "        global_iK[values*ei : values*(ei+1)] = iK\n",
    "        global_jK[values*ei : values*(ei+1)] = jK\n",
    "        global_aK[values*ei : values*(ei+1)] = aK\n",
    "\n",
    "    global_K = sparse.coo_matrix((global_aK,(global_iK, global_jK)),shape = (n_dofs, n_dofs)).tocsr()\n",
    "    return global_K"
   ]
  },
  {
   "cell_type": "code",
   "execution_count": 11,
   "id": "2c8ee1b8",
   "metadata": {},
   "outputs": [],
   "source": [
    "# Fixes specified node\n",
    "\n",
    "def fix_node(node_id, fix_X, fix_Y, fix_Z):\n",
    "    dof_x = node_id*3\n",
    "    dof_y = node_id*3 + 1\n",
    "    dof_z = node_id*3 + 2\n",
    "    \n",
    "    if (fix_X):\n",
    "        fixed_dofs.append(dof_x)\n",
    "    if (fix_Y):\n",
    "        fixed_dofs.append(dof_y)\n",
    "    if (fix_Z):\n",
    "        fixed_dofs.append(dof_z)\n",
    "        \n",
    "# Applies load\n",
    "\n",
    "def apply_load(node_id, load_X, load_Y, load_Z):\n",
    "    dof_x = node_id*3\n",
    "    dof_y = node_id*3 + 1\n",
    "    dof_z = node_id*3 + 2\n",
    "    \n",
    "    F_global[dof_x] = load_X\n",
    "    F_global[dof_y] = load_Y\n",
    "    F_global[dof_z] = load_Z"
   ]
  },
  {
   "cell_type": "code",
   "execution_count": 12,
   "id": "1ee73770",
   "metadata": {},
   "outputs": [
    {
     "name": "stdout",
     "output_type": "stream",
     "text": [
      "Nodes count: 28100\n",
      "Elems count: 105171\n"
     ]
    }
   ],
   "source": [
    "# Reading mesh\n",
    "\n",
    "filename     = 'UAZ_469_Frame_1_tetra.inp'\n",
    "nodes, elems = read_mesh(filename)"
   ]
  },
  {
   "cell_type": "code",
   "execution_count": 13,
   "id": "b5af4cdd",
   "metadata": {
    "scrolled": false
   },
   "outputs": [
    {
     "data": {
      "application/vnd.jupyter.widget-view+json": {
       "model_id": "62b32a90a18d4e10a3495baa5a28ad3d",
       "version_major": 2,
       "version_minor": 0
      },
      "text/plain": [
       "Widget(value=\"<iframe src='http://localhost:51392/index.html?ui=P_0x235b46152e0_0&reconnect=auto' style='width…"
      ]
     },
     "metadata": {},
     "output_type": "display_data"
    }
   ],
   "source": [
    "# Visualisation\n",
    "\n",
    "pv_grid = mesh_to_unstructured_grid(nodes, elems)\n",
    "visualize(pv_grid)"
   ]
  },
  {
   "cell_type": "code",
   "execution_count": 14,
   "id": "cf4d8aca",
   "metadata": {},
   "outputs": [],
   "source": [
    "# Analysis setup\n",
    "# * * * * * * * * * * * * * * * * * * * * * * * *\n",
    "# Isotropic steel is considered as frame material\n",
    "\n",
    "E  = 210*1e9\n",
    "nu = 0.3\n",
    "\n",
    "n_nodes      = nodes.shape[0]\n",
    "n_elems      = len(elems)\n",
    "n_dofs       = n_nodes * 3 \n",
    "dofs_mapping = map_dofs(elems)\n",
    "\n",
    "K_global = None\n",
    "F_global = np.zeros(n_dofs)\n",
    "U_global = np.zeros(n_dofs)\n",
    "\n",
    "all_dofs   = np.arange(n_dofs)\n",
    "fixed_dofs = []\n",
    "\n",
    "elems_data = {\n",
    "    elem_id: {\n",
    "        'stress': None,\n",
    "        'strain': None,\n",
    "        'B_matr': None\n",
    "    } for elem_id in range(len(elems))\n",
    "}\n",
    "\n",
    "# 3D Isotropic Hook's law in matrix form:\n",
    "# * * * * * * * * * * * * * * * * * * * * \n",
    "# Warning: not multiplying by E due to high condition number of matrix in this case\n",
    "# Dividing the displacements by E later due to problem linearity\n",
    "\n",
    "multiplier = 1/((1 + nu)*(1 - 2*nu))\n",
    "D = multiplier * np.array([\n",
    "    [1-nu, nu,   nu,   0,          0,                   0],\n",
    "    [nu,   1-nu, nu,   0,          0,                   0],\n",
    "    [nu,   nu,   1-nu, 0,          0,                   0],\n",
    "    [0,    0,    0,    (1-2*nu)/2, 0,                   0],\n",
    "    [0,    0,    0,    0,          (1-2*nu)/2,          0],\n",
    "    [0,    0,    0,    0,          0,          (1-2*nu)/2]\n",
    "])"
   ]
  },
  {
   "cell_type": "code",
   "execution_count": 15,
   "id": "6c9e51ec",
   "metadata": {},
   "outputs": [
    {
     "name": "stdout",
     "output_type": "stream",
     "text": [
      "Global stiffness matrix shape: \t(84300 x 84300)\n",
      "Assembly taken: \t\t16.587 sec\n"
     ]
    }
   ],
   "source": [
    "# Global stiffness matrix assembly\n",
    "\n",
    "start_tick = time()\n",
    "K_global   = assemble_K(elems, dofs_mapping)\n",
    "end_tick   = time()\n",
    "\n",
    "print(f'Global stiffness matrix shape: \\t({n_dofs} x {n_dofs})')\n",
    "print(f'Assembly taken: \\t\\t{end_tick - start_tick :.3f} sec')"
   ]
  },
  {
   "cell_type": "code",
   "execution_count": 16,
   "id": "7676e9a5",
   "metadata": {},
   "outputs": [
    {
     "name": "stdout",
     "output_type": "stream",
     "text": [
      "X size: 12292.739\n",
      "Y size: 646.867\n",
      "Z size: 3752.339\n",
      "Min x: -6376.642\n",
      "Max x: 5916.097\n"
     ]
    }
   ],
   "source": [
    "# Mesh sizes\n",
    "\n",
    "min_x, max_x, min_y, max_y, min_z, max_z = mesh_bounds(nodes)\n",
    "delta_x = max_x - min_x\n",
    "delta_y = max_y - min_y\n",
    "delta_z = max_z - min_z\n",
    "\n",
    "print(f'X size: {delta_x :.3f}')\n",
    "print(f'Y size: {delta_y :.3f}')\n",
    "print(f'Z size: {delta_z :.3f}')\n",
    "\n",
    "print(f'Min x: {min_x :.3f}')\n",
    "print(f'Max x: {max_x :.3f}')"
   ]
  },
  {
   "cell_type": "code",
   "execution_count": 17,
   "id": "da86178c",
   "metadata": {},
   "outputs": [],
   "source": [
    "# Getting boundary nodes\n",
    "\n",
    "glob_bounds = (min_x, max_x, min_y, max_y, min_z, max_z)\n",
    "global_boundaries = bounding_nodes(glob_bounds, tol = 40)\n",
    "glob_min_x, glob_max_x, glob_min_y, glob_max_y, glob_min_z, glob_max_z = global_boundaries\n",
    "\n",
    "# Getting middle boundaries\n",
    "\n",
    "mid_top_3 = find_middle(1800, 2100, 100)\n",
    "mid_top_2 = find_middle(-150, 250, 10)\n",
    "mid_top_1 = find_middle(-5800, -5500, 20)\n"
   ]
  },
  {
   "cell_type": "code",
   "execution_count": 18,
   "id": "ed33e6b0",
   "metadata": {
    "scrolled": false
   },
   "outputs": [],
   "source": [
    "# Drawing fixed nodes\n",
    "\n",
    "scalars = np.zeros(n_nodes)\n",
    "for node_ in glob_min_x:\n",
    "    scalars[node_] = 1\n",
    "for node_ in glob_max_x:\n",
    "    scalars[node_] = 1\n",
    "    \n",
    "cmap = 'ocean'\n",
    "#visualize(pv_grid, scalars, cmap)"
   ]
  },
  {
   "cell_type": "code",
   "execution_count": 19,
   "id": "b0c9543a",
   "metadata": {},
   "outputs": [],
   "source": [
    "# Drawing loaded nodes\n",
    "\n",
    "scalars = np.zeros(n_nodes)\n",
    "for node_ in mid_top_3:\n",
    "    scalars[node_] = 1\n",
    "    \n",
    "for node_ in mid_top_2:\n",
    "    scalars[node_] = 1\n",
    "    \n",
    "for node_ in mid_top_1:\n",
    "    scalars[node_] = 1\n",
    "    \n",
    "cmap = 'Reds'\n",
    "#visualize(pv_grid, scalars, cmap)"
   ]
  },
  {
   "cell_type": "code",
   "execution_count": 20,
   "id": "aa836cae",
   "metadata": {},
   "outputs": [],
   "source": [
    "# Fixing chassis and applying loads from hull:\n",
    "\n",
    "force = 1e1\n",
    "\n",
    "for node_ in glob_min_x:\n",
    "    fix_node(node_, True, True, True)\n",
    "for node_ in glob_max_x:\n",
    "    fix_node(node_, True, True, True)\n",
    "    \n",
    "for node_ in mid_top_1:\n",
    "    apply_load(node_, 0, -force, 0)\n",
    "for node_ in mid_top_2:\n",
    "    apply_load(node_, 0, -2*force, 0)\n",
    "for node_ in mid_top_3:\n",
    "    apply_load(node_, 0, -force, 0)"
   ]
  },
  {
   "cell_type": "code",
   "execution_count": 21,
   "id": "14a1e308",
   "metadata": {},
   "outputs": [
    {
     "name": "stdout",
     "output_type": "stream",
     "text": [
      "Solution taken: 1.960 sec\n"
     ]
    }
   ],
   "source": [
    "# Solving\n",
    "\n",
    "start_tick = time()\n",
    "\n",
    "free_dofs = np.setdiff1d(all_dofs, fixed_dofs)\n",
    "U_global[free_dofs] = spsolve(K_global[free_dofs, :][:, free_dofs], F_global[free_dofs])\n",
    "\n",
    "end_tick   = time()\n",
    "print(f'Solution taken: {end_tick - start_tick :.3f} sec')"
   ]
  },
  {
   "cell_type": "code",
   "execution_count": 45,
   "id": "97990fd1",
   "metadata": {},
   "outputs": [],
   "source": [
    "nodal_stresses = {\n",
    "    ni: [] for ni in range(n_nodes)\n",
    "}\n",
    "\n",
    "# Calculating strains\n",
    "for ei in range(len(elems)):\n",
    "    B_matr = elems_data[ei]['B_matr']\n",
    "    u_vec  = U_global[dofs_mapping[ei].astype(np.int32)]\n",
    "    strain = np.dot(B_matr, u_vec)\n",
    "    stress = np.dot(D, strain)\n",
    "    elems_data[ei]['strain'] = strain\n",
    "    elems_data[ei]['stress'] = stress\n",
    "    \n",
    "    for node in elems[ei]:\n",
    "        if nodes[node][0] > -6000 and nodes[node][0] < 5500:\n",
    "            nodal_stresses[node].append(stress[1])\n",
    "        else:\n",
    "            nodal_stresses[node].append(0)"
   ]
  },
  {
   "cell_type": "code",
   "execution_count": 46,
   "id": "128c2c02",
   "metadata": {},
   "outputs": [],
   "source": [
    "# Averaging\n",
    "nodal_stresses_avg = []\n",
    "for ns in nodal_stresses:\n",
    "    nodal_stresses_avg.append(np.mean(np.array(nodal_stresses[ns])))"
   ]
  },
  {
   "cell_type": "code",
   "execution_count": 48,
   "id": "f9e52bb0",
   "metadata": {},
   "outputs": [
    {
     "data": {
      "application/vnd.jupyter.widget-view+json": {
       "model_id": "a67f7bb26f684d31a32651d75ffdd236",
       "version_major": 2,
       "version_minor": 0
      },
      "text/plain": [
       "Widget(value=\"<iframe src='http://localhost:51392/index.html?ui=P_0x235b4ce2be0_0&reconnect=auto' style='width…"
      ]
     },
     "metadata": {},
     "output_type": "display_data"
    }
   ],
   "source": [
    "visualize(pv_grid, nodal_stresses_avg, \"turbo\")"
   ]
  },
  {
   "cell_type": "code",
   "execution_count": null,
   "id": "2423b780",
   "metadata": {},
   "outputs": [],
   "source": []
  }
 ],
 "metadata": {
  "kernelspec": {
   "display_name": "Python 3 (ipykernel)",
   "language": "python",
   "name": "python3"
  },
  "language_info": {
   "codemirror_mode": {
    "name": "ipython",
    "version": 3
   },
   "file_extension": ".py",
   "mimetype": "text/x-python",
   "name": "python",
   "nbconvert_exporter": "python",
   "pygments_lexer": "ipython3",
   "version": "3.9.12"
  }
 },
 "nbformat": 4,
 "nbformat_minor": 5
}
