{
 "cells": [
  {
   "cell_type": "code",
   "execution_count": 2,
   "id": "6121e91b",
   "metadata": {},
   "outputs": [
    {
     "data": {
      "text/latex": [
       "$\\displaystyle \\left[\\begin{matrix}\\frac{E \\left(\\frac{1}{2} - \\frac{\\nu}{2}\\right) \\left(- c - d\\right)^{2}}{1 - \\nu^{2}} + \\frac{E \\left(- a - b\\right)^{2}}{1 - \\nu^{2}} & \\frac{E \\nu \\left(- a - b\\right) \\left(- c - d\\right)}{1 - \\nu^{2}} + \\frac{E \\left(\\frac{1}{2} - \\frac{\\nu}{2}\\right) \\left(- a - b\\right) \\left(- c - d\\right)}{1 - \\nu^{2}} & \\frac{E a \\left(- a - b\\right)}{1 - \\nu^{2}} + \\frac{E c \\left(\\frac{1}{2} - \\frac{\\nu}{2}\\right) \\left(- c - d\\right)}{1 - \\nu^{2}} & \\frac{E a \\left(\\frac{1}{2} - \\frac{\\nu}{2}\\right) \\left(- c - d\\right)}{1 - \\nu^{2}} + \\frac{E c \\nu \\left(- a - b\\right)}{1 - \\nu^{2}} & \\frac{E b \\left(- a - b\\right)}{1 - \\nu^{2}} + \\frac{E d \\left(\\frac{1}{2} - \\frac{\\nu}{2}\\right) \\left(- c - d\\right)}{1 - \\nu^{2}} & \\frac{E b \\left(\\frac{1}{2} - \\frac{\\nu}{2}\\right) \\left(- c - d\\right)}{1 - \\nu^{2}} + \\frac{E d \\nu \\left(- a - b\\right)}{1 - \\nu^{2}}\\\\\\frac{E \\nu \\left(- a - b\\right) \\left(- c - d\\right)}{1 - \\nu^{2}} + \\frac{E \\left(\\frac{1}{2} - \\frac{\\nu}{2}\\right) \\left(- a - b\\right) \\left(- c - d\\right)}{1 - \\nu^{2}} & \\frac{E \\left(\\frac{1}{2} - \\frac{\\nu}{2}\\right) \\left(- a - b\\right)^{2}}{1 - \\nu^{2}} + \\frac{E \\left(- c - d\\right)^{2}}{1 - \\nu^{2}} & \\frac{E a \\nu \\left(- c - d\\right)}{1 - \\nu^{2}} + \\frac{E c \\left(\\frac{1}{2} - \\frac{\\nu}{2}\\right) \\left(- a - b\\right)}{1 - \\nu^{2}} & \\frac{E a \\left(\\frac{1}{2} - \\frac{\\nu}{2}\\right) \\left(- a - b\\right)}{1 - \\nu^{2}} + \\frac{E c \\left(- c - d\\right)}{1 - \\nu^{2}} & \\frac{E b \\nu \\left(- c - d\\right)}{1 - \\nu^{2}} + \\frac{E d \\left(\\frac{1}{2} - \\frac{\\nu}{2}\\right) \\left(- a - b\\right)}{1 - \\nu^{2}} & \\frac{E b \\left(\\frac{1}{2} - \\frac{\\nu}{2}\\right) \\left(- a - b\\right)}{1 - \\nu^{2}} + \\frac{E d \\left(- c - d\\right)}{1 - \\nu^{2}}\\\\\\frac{E a \\left(- a - b\\right)}{1 - \\nu^{2}} + \\frac{E c \\left(\\frac{1}{2} - \\frac{\\nu}{2}\\right) \\left(- c - d\\right)}{1 - \\nu^{2}} & \\frac{E a \\nu \\left(- c - d\\right)}{1 - \\nu^{2}} + \\frac{E c \\left(\\frac{1}{2} - \\frac{\\nu}{2}\\right) \\left(- a - b\\right)}{1 - \\nu^{2}} & \\frac{E a^{2}}{1 - \\nu^{2}} + \\frac{E c^{2} \\cdot \\left(\\frac{1}{2} - \\frac{\\nu}{2}\\right)}{1 - \\nu^{2}} & \\frac{E a c \\nu}{1 - \\nu^{2}} + \\frac{E a c \\left(\\frac{1}{2} - \\frac{\\nu}{2}\\right)}{1 - \\nu^{2}} & \\frac{E a b}{1 - \\nu^{2}} + \\frac{E c d \\left(\\frac{1}{2} - \\frac{\\nu}{2}\\right)}{1 - \\nu^{2}} & \\frac{E a d \\nu}{1 - \\nu^{2}} + \\frac{E b c \\left(\\frac{1}{2} - \\frac{\\nu}{2}\\right)}{1 - \\nu^{2}}\\\\\\frac{E a \\left(\\frac{1}{2} - \\frac{\\nu}{2}\\right) \\left(- c - d\\right)}{1 - \\nu^{2}} + \\frac{E c \\nu \\left(- a - b\\right)}{1 - \\nu^{2}} & \\frac{E a \\left(\\frac{1}{2} - \\frac{\\nu}{2}\\right) \\left(- a - b\\right)}{1 - \\nu^{2}} + \\frac{E c \\left(- c - d\\right)}{1 - \\nu^{2}} & \\frac{E a c \\nu}{1 - \\nu^{2}} + \\frac{E a c \\left(\\frac{1}{2} - \\frac{\\nu}{2}\\right)}{1 - \\nu^{2}} & \\frac{E a^{2} \\cdot \\left(\\frac{1}{2} - \\frac{\\nu}{2}\\right)}{1 - \\nu^{2}} + \\frac{E c^{2}}{1 - \\nu^{2}} & \\frac{E a d \\left(\\frac{1}{2} - \\frac{\\nu}{2}\\right)}{1 - \\nu^{2}} + \\frac{E b c \\nu}{1 - \\nu^{2}} & \\frac{E a b \\left(\\frac{1}{2} - \\frac{\\nu}{2}\\right)}{1 - \\nu^{2}} + \\frac{E c d}{1 - \\nu^{2}}\\\\\\frac{E b \\left(- a - b\\right)}{1 - \\nu^{2}} + \\frac{E d \\left(\\frac{1}{2} - \\frac{\\nu}{2}\\right) \\left(- c - d\\right)}{1 - \\nu^{2}} & \\frac{E b \\nu \\left(- c - d\\right)}{1 - \\nu^{2}} + \\frac{E d \\left(\\frac{1}{2} - \\frac{\\nu}{2}\\right) \\left(- a - b\\right)}{1 - \\nu^{2}} & \\frac{E a b}{1 - \\nu^{2}} + \\frac{E c d \\left(\\frac{1}{2} - \\frac{\\nu}{2}\\right)}{1 - \\nu^{2}} & \\frac{E a d \\left(\\frac{1}{2} - \\frac{\\nu}{2}\\right)}{1 - \\nu^{2}} + \\frac{E b c \\nu}{1 - \\nu^{2}} & \\frac{E b^{2}}{1 - \\nu^{2}} + \\frac{E d^{2} \\cdot \\left(\\frac{1}{2} - \\frac{\\nu}{2}\\right)}{1 - \\nu^{2}} & \\frac{E b d \\nu}{1 - \\nu^{2}} + \\frac{E b d \\left(\\frac{1}{2} - \\frac{\\nu}{2}\\right)}{1 - \\nu^{2}}\\\\\\frac{E b \\left(\\frac{1}{2} - \\frac{\\nu}{2}\\right) \\left(- c - d\\right)}{1 - \\nu^{2}} + \\frac{E d \\nu \\left(- a - b\\right)}{1 - \\nu^{2}} & \\frac{E b \\left(\\frac{1}{2} - \\frac{\\nu}{2}\\right) \\left(- a - b\\right)}{1 - \\nu^{2}} + \\frac{E d \\left(- c - d\\right)}{1 - \\nu^{2}} & \\frac{E a d \\nu}{1 - \\nu^{2}} + \\frac{E b c \\left(\\frac{1}{2} - \\frac{\\nu}{2}\\right)}{1 - \\nu^{2}} & \\frac{E a b \\left(\\frac{1}{2} - \\frac{\\nu}{2}\\right)}{1 - \\nu^{2}} + \\frac{E c d}{1 - \\nu^{2}} & \\frac{E b d \\nu}{1 - \\nu^{2}} + \\frac{E b d \\left(\\frac{1}{2} - \\frac{\\nu}{2}\\right)}{1 - \\nu^{2}} & \\frac{E b^{2} \\cdot \\left(\\frac{1}{2} - \\frac{\\nu}{2}\\right)}{1 - \\nu^{2}} + \\frac{E d^{2}}{1 - \\nu^{2}}\\end{matrix}\\right]$"
      ],
      "text/plain": [
       "Matrix([\n",
       "[               E*(1/2 - nu/2)*(-c - d)**2/(1 - nu**2) + E*(-a - b)**2/(1 - nu**2), E*nu*(-a - b)*(-c - d)/(1 - nu**2) + E*(1/2 - nu/2)*(-a - b)*(-c - d)/(1 - nu**2),    E*a*(-a - b)/(1 - nu**2) + E*c*(1/2 - nu/2)*(-c - d)/(1 - nu**2), E*a*(1/2 - nu/2)*(-c - d)/(1 - nu**2) + E*c*nu*(-a - b)/(1 - nu**2),    E*b*(-a - b)/(1 - nu**2) + E*d*(1/2 - nu/2)*(-c - d)/(1 - nu**2), E*b*(1/2 - nu/2)*(-c - d)/(1 - nu**2) + E*d*nu*(-a - b)/(1 - nu**2)],\n",
       "[E*nu*(-a - b)*(-c - d)/(1 - nu**2) + E*(1/2 - nu/2)*(-a - b)*(-c - d)/(1 - nu**2),                E*(1/2 - nu/2)*(-a - b)**2/(1 - nu**2) + E*(-c - d)**2/(1 - nu**2), E*a*nu*(-c - d)/(1 - nu**2) + E*c*(1/2 - nu/2)*(-a - b)/(1 - nu**2),    E*a*(1/2 - nu/2)*(-a - b)/(1 - nu**2) + E*c*(-c - d)/(1 - nu**2), E*b*nu*(-c - d)/(1 - nu**2) + E*d*(1/2 - nu/2)*(-a - b)/(1 - nu**2),    E*b*(1/2 - nu/2)*(-a - b)/(1 - nu**2) + E*d*(-c - d)/(1 - nu**2)],\n",
       "[                 E*a*(-a - b)/(1 - nu**2) + E*c*(1/2 - nu/2)*(-c - d)/(1 - nu**2),               E*a*nu*(-c - d)/(1 - nu**2) + E*c*(1/2 - nu/2)*(-a - b)/(1 - nu**2),                E*a**2/(1 - nu**2) + E*c**2*(1/2 - nu/2)/(1 - nu**2),               E*a*c*nu/(1 - nu**2) + E*a*c*(1/2 - nu/2)/(1 - nu**2),                  E*a*b/(1 - nu**2) + E*c*d*(1/2 - nu/2)/(1 - nu**2),               E*a*d*nu/(1 - nu**2) + E*b*c*(1/2 - nu/2)/(1 - nu**2)],\n",
       "[              E*a*(1/2 - nu/2)*(-c - d)/(1 - nu**2) + E*c*nu*(-a - b)/(1 - nu**2),                  E*a*(1/2 - nu/2)*(-a - b)/(1 - nu**2) + E*c*(-c - d)/(1 - nu**2),               E*a*c*nu/(1 - nu**2) + E*a*c*(1/2 - nu/2)/(1 - nu**2),                E*a**2*(1/2 - nu/2)/(1 - nu**2) + E*c**2/(1 - nu**2),               E*a*d*(1/2 - nu/2)/(1 - nu**2) + E*b*c*nu/(1 - nu**2),                  E*a*b*(1/2 - nu/2)/(1 - nu**2) + E*c*d/(1 - nu**2)],\n",
       "[                 E*b*(-a - b)/(1 - nu**2) + E*d*(1/2 - nu/2)*(-c - d)/(1 - nu**2),               E*b*nu*(-c - d)/(1 - nu**2) + E*d*(1/2 - nu/2)*(-a - b)/(1 - nu**2),                  E*a*b/(1 - nu**2) + E*c*d*(1/2 - nu/2)/(1 - nu**2),               E*a*d*(1/2 - nu/2)/(1 - nu**2) + E*b*c*nu/(1 - nu**2),                E*b**2/(1 - nu**2) + E*d**2*(1/2 - nu/2)/(1 - nu**2),               E*b*d*nu/(1 - nu**2) + E*b*d*(1/2 - nu/2)/(1 - nu**2)],\n",
       "[              E*b*(1/2 - nu/2)*(-c - d)/(1 - nu**2) + E*d*nu*(-a - b)/(1 - nu**2),                  E*b*(1/2 - nu/2)*(-a - b)/(1 - nu**2) + E*d*(-c - d)/(1 - nu**2),               E*a*d*nu/(1 - nu**2) + E*b*c*(1/2 - nu/2)/(1 - nu**2),                  E*a*b*(1/2 - nu/2)/(1 - nu**2) + E*c*d/(1 - nu**2),               E*b*d*nu/(1 - nu**2) + E*b*d*(1/2 - nu/2)/(1 - nu**2),                E*b**2*(1/2 - nu/2)/(1 - nu**2) + E*d**2/(1 - nu**2)]])"
      ]
     },
     "execution_count": 2,
     "metadata": {},
     "output_type": "execute_result"
    }
   ],
   "source": [
    "from sympy import symbols, Matrix\n",
    "\n",
    "# Define symbols\n",
    "E, nu, a, b, c, d = symbols('E nu a b c d')\n",
    "\n",
    "# Define D matrix (let's use the plane stress form as an example, but you can replace it with the plane strain form if required)\n",
    "D = (E / (1 - nu**2)) * Matrix([[1, nu, 0], \n",
    "                                [nu, 1, 0],\n",
    "                                [0, 0, (1-nu)/2]])\n",
    "\n",
    "# Define B matrix\n",
    "B = Matrix([[-a-b, 0, a, 0, b, 0],\n",
    "            [0, -c-d, 0, c, 0, d],\n",
    "            [-c-d, -a-b, c, a, d, b]])\n",
    "\n",
    "# Calculate R = B^T * D\n",
    "R = B.transpose() * D\n",
    "\n",
    "# Calculate R * B\n",
    "result = R * B\n",
    "\n",
    "# Print the result\n",
    "result"
   ]
  },
  {
   "cell_type": "code",
   "execution_count": 3,
   "id": "e62abf2e",
   "metadata": {},
   "outputs": [
    {
     "name": "stdout",
     "output_type": "stream",
     "text": [
      "Integral value: 0.027777777777777776\n"
     ]
    }
   ],
   "source": [
    "def function_to_integrate(x, y):\n",
    "    # Replace with the desired function\n",
    "    return x*y\n",
    "\n",
    "def gaussian_integration_over_triangle():\n",
    "    # Triangle vertices\n",
    "    x1, y1 = 0, 0\n",
    "    x2, y2 = 1, 0\n",
    "    x3, y3 = 0, 1\n",
    "    \n",
    "    # Gaussian point and weight for single-point rule\n",
    "    xi, eta = 1/3, 1/3\n",
    "    w = 0.5\n",
    "\n",
    "    # Shape functions\n",
    "    N1 = 1 - xi - eta\n",
    "    N2 = xi\n",
    "    N3 = eta\n",
    "    \n",
    "    # Compute x and y at the Gaussian point using shape functions\n",
    "    x = N1*x1 + N2*x2 + N3*x3\n",
    "    y = N1*y1 + N2*y2 + N3*y3\n",
    "    \n",
    "    # Jacobian determinant (in this case, it's half the triangle's area)\n",
    "    J = 0.5\n",
    "    \n",
    "    # Evaluate the function at Gaussian point\n",
    "    value = function_to_integrate(x, y)\n",
    "    \n",
    "    # Compute the integral value\n",
    "    integral = w * J * value\n",
    "    \n",
    "    return integral\n",
    "\n",
    "result = gaussian_integration_over_triangle()\n",
    "print(f\"Integral value: {result}\")"
   ]
  },
  {
   "cell_type": "code",
   "execution_count": null,
   "id": "d0641b76",
   "metadata": {},
   "outputs": [],
   "source": []
  }
 ],
 "metadata": {
  "kernelspec": {
   "display_name": "Python 3 (ipykernel)",
   "language": "python",
   "name": "python3"
  },
  "language_info": {
   "codemirror_mode": {
    "name": "ipython",
    "version": 3
   },
   "file_extension": ".py",
   "mimetype": "text/x-python",
   "name": "python",
   "nbconvert_exporter": "python",
   "pygments_lexer": "ipython3",
   "version": "3.9.12"
  }
 },
 "nbformat": 4,
 "nbformat_minor": 5
}
